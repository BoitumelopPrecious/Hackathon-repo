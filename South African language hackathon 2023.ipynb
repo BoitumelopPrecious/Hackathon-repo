{
 "cells": [
  {
   "cell_type": "markdown",
   "id": "d94f6b3f",
   "metadata": {},
   "source": [
    "# CLASSIFICATION HACKATHON\n",
    "\n",
    "© Explore Data Science Academy\n",
    "\n",
    "## Honour Code\n",
    "\n",
    "I **Boitumelo Lefophana** confirm, by submitting this document, that the solutions in this notebook are a result of my own work and that I abide by the   <a href=\"https://drive.google.com/open?id=1FXCIf425JLRx3JQi-ltSWppj8BCF3Np1\" target=\"_blank\">EDSA Student Manifesto</a>. Non-compliance with the honour code constitutes a material breach of contract.\n",
    "\n",
    "## Import required packages for coding challenge"
   ]
  },
  {
   "cell_type": "markdown",
   "id": "28e09f0c",
   "metadata": {},
   "source": [
    "- This code imports several libraries and modules commonly used in machine learning tasks.\n",
    "- These imports set the stage for performing various machine learning tasks, such as data preprocessing, model training, and evaluation using different classifiers and evaluation metrics."
   ]
  },
  {
   "cell_type": "code",
   "execution_count": 1,
   "id": "12edb482",
   "metadata": {},
   "outputs": [],
   "source": [
    "import pandas as pd\n",
    "import numpy as np\n",
    "import seaborn as sns\n",
    "import matplotlib.pyplot as plt\n",
    "from sklearn.model_selection import train_test_split\n",
    "from sklearn.feature_extraction.text import CountVectorizer, TfidfTransformer\n",
    "\n",
    "import time\n",
    "from sklearn.metrics import f1_score\n",
    "from sklearn.linear_model import LogisticRegression\n",
    "from sklearn.neighbors import KNeighborsClassifier\n",
    "from sklearn.svm import SVC\n",
    "from sklearn.naive_bayes import MultinomialNB\n",
    "\n",
    "from sklearn.metrics import confusion_matrix, accuracy_score\n",
    "from sklearn.metrics import classification_report"
   ]
  },
  {
   "cell_type": "markdown",
   "id": "58dac0c7",
   "metadata": {},
   "source": [
    "<a id=\"two\"></a>\n",
    "# Step 2: Load the Dataset\n",
    "<a class=\"anchor\" id=\"1.1\"></a>\n",
    "<a href=#cont>"
   ]
  },
  {
   "cell_type": "markdown",
   "id": "e81f5771",
   "metadata": {},
   "source": [
    "- This code snippet reads data from CSV files using pandas library in Python.\n",
    "- These DataFrames, <b>train_df, test_df, and sample</b>, hold the data from the respective CSV files, allowing further exploration, preprocessing, model training, or other analyses to be performed on the data."
   ]
  },
  {
   "cell_type": "code",
   "execution_count": 2,
   "id": "116ab088",
   "metadata": {},
   "outputs": [],
   "source": [
    "train_df = pd.read_csv('https://raw.githubusercontent.com/BoitumelopPrecious/Hackathon-repo/main/train_set.csv')\n",
    "test_df = pd.read_csv('https://raw.githubusercontent.com/BoitumelopPrecious/Hackathon-repo/main/test_set.csv')\n",
    "sample = pd.read_csv('sample_submission.csv')"
   ]
  },
  {
   "cell_type": "markdown",
   "id": "2f781b7d",
   "metadata": {},
   "source": [
    "# Step 3: Exploratory Data Analysis (EDA)"
   ]
  },
  {
   "cell_type": "markdown",
   "id": "2e967df1",
   "metadata": {},
   "source": [
    "- This function is used to get a quick glimpse of the dataset's contents, column names, and data types before performing further analysis or preprocessing.\n",
    "- This method in pandas is helpful for quickly previewing the contents of a DataFrame and understanding its structure."
   ]
  },
  {
   "cell_type": "code",
   "execution_count": 3,
   "id": "7ffdc566",
   "metadata": {},
   "outputs": [
    {
     "data": {
      "text/html": [
       "<div>\n",
       "<style scoped>\n",
       "    .dataframe tbody tr th:only-of-type {\n",
       "        vertical-align: middle;\n",
       "    }\n",
       "\n",
       "    .dataframe tbody tr th {\n",
       "        vertical-align: top;\n",
       "    }\n",
       "\n",
       "    .dataframe thead th {\n",
       "        text-align: right;\n",
       "    }\n",
       "</style>\n",
       "<table border=\"1\" class=\"dataframe\">\n",
       "  <thead>\n",
       "    <tr style=\"text-align: right;\">\n",
       "      <th></th>\n",
       "      <th>lang_id</th>\n",
       "      <th>text</th>\n",
       "    </tr>\n",
       "  </thead>\n",
       "  <tbody>\n",
       "    <tr>\n",
       "      <th>0</th>\n",
       "      <td>xho</td>\n",
       "      <td>umgaqo-siseko wenza amalungiselelo kumaziko ax...</td>\n",
       "    </tr>\n",
       "    <tr>\n",
       "      <th>1</th>\n",
       "      <td>xho</td>\n",
       "      <td>i-dha iya kuba nobulumko bokubeka umsebenzi na...</td>\n",
       "    </tr>\n",
       "    <tr>\n",
       "      <th>2</th>\n",
       "      <td>eng</td>\n",
       "      <td>the province of kwazulu-natal department of tr...</td>\n",
       "    </tr>\n",
       "    <tr>\n",
       "      <th>3</th>\n",
       "      <td>nso</td>\n",
       "      <td>o netefatša gore o ba file dilo ka moka tše le...</td>\n",
       "    </tr>\n",
       "    <tr>\n",
       "      <th>4</th>\n",
       "      <td>ven</td>\n",
       "      <td>khomishini ya ndinganyiso ya mbeu yo ewa maana...</td>\n",
       "    </tr>\n",
       "  </tbody>\n",
       "</table>\n",
       "</div>"
      ],
      "text/plain": [
       "  lang_id                                               text\n",
       "0     xho  umgaqo-siseko wenza amalungiselelo kumaziko ax...\n",
       "1     xho  i-dha iya kuba nobulumko bokubeka umsebenzi na...\n",
       "2     eng  the province of kwazulu-natal department of tr...\n",
       "3     nso  o netefatša gore o ba file dilo ka moka tše le...\n",
       "4     ven  khomishini ya ndinganyiso ya mbeu yo ewa maana..."
      ]
     },
     "execution_count": 3,
     "metadata": {},
     "output_type": "execute_result"
    }
   ],
   "source": [
    "train_df.head()"
   ]
  },
  {
   "cell_type": "markdown",
   "id": "d5f181df",
   "metadata": {},
   "source": [
    "- This function is helpful for understanding the size of the dataset and is often used in data preprocessing or exploratory data analysis to check the structure and dimensions of the data before performing operations or training machine learning models.\n",
    "- It returns a tuple containing the number of rows and columns present in the DataFrame."
   ]
  },
  {
   "cell_type": "code",
   "execution_count": 4,
   "id": "39aad230",
   "metadata": {},
   "outputs": [
    {
     "data": {
      "text/plain": [
       "(33000, 2)"
      ]
     },
     "execution_count": 4,
     "metadata": {},
     "output_type": "execute_result"
    }
   ],
   "source": [
    "train_df.shape"
   ]
  },
  {
   "cell_type": "code",
   "execution_count": 5,
   "id": "6f5829d4",
   "metadata": {},
   "outputs": [
    {
     "data": {
      "text/html": [
       "<div>\n",
       "<style scoped>\n",
       "    .dataframe tbody tr th:only-of-type {\n",
       "        vertical-align: middle;\n",
       "    }\n",
       "\n",
       "    .dataframe tbody tr th {\n",
       "        vertical-align: top;\n",
       "    }\n",
       "\n",
       "    .dataframe thead th {\n",
       "        text-align: right;\n",
       "    }\n",
       "</style>\n",
       "<table border=\"1\" class=\"dataframe\">\n",
       "  <thead>\n",
       "    <tr style=\"text-align: right;\">\n",
       "      <th></th>\n",
       "      <th>index</th>\n",
       "      <th>text</th>\n",
       "    </tr>\n",
       "  </thead>\n",
       "  <tbody>\n",
       "    <tr>\n",
       "      <th>0</th>\n",
       "      <td>1</td>\n",
       "      <td>Mmasepala, fa maemo a a kgethegileng a letlele...</td>\n",
       "    </tr>\n",
       "    <tr>\n",
       "      <th>1</th>\n",
       "      <td>2</td>\n",
       "      <td>Uzakwaziswa ngokufaneleko nakungafuneka eminye...</td>\n",
       "    </tr>\n",
       "    <tr>\n",
       "      <th>2</th>\n",
       "      <td>3</td>\n",
       "      <td>Tshivhumbeo tshi fana na ngano dza vhathu.</td>\n",
       "    </tr>\n",
       "    <tr>\n",
       "      <th>3</th>\n",
       "      <td>4</td>\n",
       "      <td>Kube inja nelikati betingevakala kutsi titsini...</td>\n",
       "    </tr>\n",
       "    <tr>\n",
       "      <th>4</th>\n",
       "      <td>5</td>\n",
       "      <td>Winste op buitelandse valuta.</td>\n",
       "    </tr>\n",
       "  </tbody>\n",
       "</table>\n",
       "</div>"
      ],
      "text/plain": [
       "   index                                               text\n",
       "0      1  Mmasepala, fa maemo a a kgethegileng a letlele...\n",
       "1      2  Uzakwaziswa ngokufaneleko nakungafuneka eminye...\n",
       "2      3         Tshivhumbeo tshi fana na ngano dza vhathu.\n",
       "3      4  Kube inja nelikati betingevakala kutsi titsini...\n",
       "4      5                      Winste op buitelandse valuta."
      ]
     },
     "execution_count": 5,
     "metadata": {},
     "output_type": "execute_result"
    }
   ],
   "source": [
    "test_df.head()"
   ]
  },
  {
   "cell_type": "code",
   "execution_count": 6,
   "id": "9ee424c5",
   "metadata": {},
   "outputs": [
    {
     "data": {
      "text/plain": [
       "(5682, 2)"
      ]
     },
     "execution_count": 6,
     "metadata": {},
     "output_type": "execute_result"
    }
   ],
   "source": [
    "test_df.shape"
   ]
  },
  {
   "cell_type": "markdown",
   "id": "d2387a18",
   "metadata": {},
   "source": [
    "The <b>df.info()</b> method in pandas provides a concise summary of the DataFrame, including information about the columns, data types, and memory usage. It gives details such as:\n",
    "\n",
    "- The column names present in the DataFrame.\n",
    "- The number of non-null values in each column.\n",
    "- The data type of each column (e.g., integer, float, object, etc.).\n",
    "- The memory usage of the DataFrame."
   ]
  },
  {
   "cell_type": "code",
   "execution_count": 7,
   "id": "1195fc20",
   "metadata": {},
   "outputs": [
    {
     "name": "stdout",
     "output_type": "stream",
     "text": [
      "<class 'pandas.core.frame.DataFrame'>\n",
      "RangeIndex: 33000 entries, 0 to 32999\n",
      "Data columns (total 2 columns):\n",
      " #   Column   Non-Null Count  Dtype \n",
      "---  ------   --------------  ----- \n",
      " 0   lang_id  33000 non-null  object\n",
      " 1   text     33000 non-null  object\n",
      "dtypes: object(2)\n",
      "memory usage: 515.8+ KB\n"
     ]
    }
   ],
   "source": [
    "train_df.info()"
   ]
  },
  {
   "cell_type": "markdown",
   "id": "20d55467",
   "metadata": {},
   "source": [
    "- The code <b>.str.len()</b> adds a new column named 'length' to the DataFrame train. This new column contains the length of the text present in each row of the 'text' column."
   ]
  },
  {
   "cell_type": "code",
   "execution_count": 8,
   "id": "8cfe1b4b",
   "metadata": {},
   "outputs": [],
   "source": [
    "train_df['length'] = train_df['text'].str.len()"
   ]
  },
  {
   "cell_type": "code",
   "execution_count": 9,
   "id": "3463476f",
   "metadata": {},
   "outputs": [
    {
     "data": {
      "text/html": [
       "<div>\n",
       "<style scoped>\n",
       "    .dataframe tbody tr th:only-of-type {\n",
       "        vertical-align: middle;\n",
       "    }\n",
       "\n",
       "    .dataframe tbody tr th {\n",
       "        vertical-align: top;\n",
       "    }\n",
       "\n",
       "    .dataframe thead th {\n",
       "        text-align: right;\n",
       "    }\n",
       "</style>\n",
       "<table border=\"1\" class=\"dataframe\">\n",
       "  <thead>\n",
       "    <tr style=\"text-align: right;\">\n",
       "      <th></th>\n",
       "      <th>lang_id</th>\n",
       "      <th>text</th>\n",
       "      <th>length</th>\n",
       "    </tr>\n",
       "  </thead>\n",
       "  <tbody>\n",
       "    <tr>\n",
       "      <th>0</th>\n",
       "      <td>xho</td>\n",
       "      <td>umgaqo-siseko wenza amalungiselelo kumaziko ax...</td>\n",
       "      <td>220</td>\n",
       "    </tr>\n",
       "    <tr>\n",
       "      <th>1</th>\n",
       "      <td>xho</td>\n",
       "      <td>i-dha iya kuba nobulumko bokubeka umsebenzi na...</td>\n",
       "      <td>252</td>\n",
       "    </tr>\n",
       "    <tr>\n",
       "      <th>2</th>\n",
       "      <td>eng</td>\n",
       "      <td>the province of kwazulu-natal department of tr...</td>\n",
       "      <td>264</td>\n",
       "    </tr>\n",
       "    <tr>\n",
       "      <th>3</th>\n",
       "      <td>nso</td>\n",
       "      <td>o netefatša gore o ba file dilo ka moka tše le...</td>\n",
       "      <td>217</td>\n",
       "    </tr>\n",
       "    <tr>\n",
       "      <th>4</th>\n",
       "      <td>ven</td>\n",
       "      <td>khomishini ya ndinganyiso ya mbeu yo ewa maana...</td>\n",
       "      <td>239</td>\n",
       "    </tr>\n",
       "  </tbody>\n",
       "</table>\n",
       "</div>"
      ],
      "text/plain": [
       "  lang_id                                               text  length\n",
       "0     xho  umgaqo-siseko wenza amalungiselelo kumaziko ax...     220\n",
       "1     xho  i-dha iya kuba nobulumko bokubeka umsebenzi na...     252\n",
       "2     eng  the province of kwazulu-natal department of tr...     264\n",
       "3     nso  o netefatša gore o ba file dilo ka moka tše le...     217\n",
       "4     ven  khomishini ya ndinganyiso ya mbeu yo ewa maana...     239"
      ]
     },
     "execution_count": 9,
     "metadata": {},
     "output_type": "execute_result"
    }
   ],
   "source": [
    "train_df.head()"
   ]
  },
  {
   "cell_type": "markdown",
   "id": "491214de",
   "metadata": {},
   "source": [
    "### South African languages distribution\n",
    "- This code  generates a pie chart representing the distribution of South African languages based on their frequencies within the 'lang_id' column of the train DataFrame."
   ]
  },
  {
   "cell_type": "code",
   "execution_count": 10,
   "id": "6619220f",
   "metadata": {},
   "outputs": [
    {
     "data": {
      "image/png": "[encoded data removed]",
      "text/plain": [
       "<Figure size 500x500 with 1 Axes>"
      ]
     },
     "metadata": {},
     "output_type": "display_data"
    }
   ],
   "source": [
    "import matplotlib.pyplot as plt\n",
    "\n",
    "# Create a figure and plot the pie chart\n",
    "plt.figure(figsize=(5, 5))  # Set the figure size as needed\n",
    "count_data = train_df['lang_id'].value_counts()\n",
    "count_data.plot(kind='pie', autopct='%.2f')\n",
    "plt.title(\"Distribution of South African Languages\")\n",
    "\n",
    "# Display the pie chart\n",
    "plt.tight_layout()\n",
    "plt.show()"
   ]
  },
  {
   "cell_type": "markdown",
   "id": "f29cee5a",
   "metadata": {},
   "source": [
    "### The distribution of text lengths for different language\n",
    "\n",
    "- This code segment visualizes the distribution of text lengths across different language classes using a box plot, facilitating comparisons of text length distributions among various 'lang_id' categories. "
   ]
  },
  {
   "cell_type": "code",
   "execution_count": 11,
   "id": "59f8b08e",
   "metadata": {},
   "outputs": [
    {
     "data": {
      "image/png": "[encoded data removed]",
      "text/plain": [
       "<Figure size 640x480 with 1 Axes>"
      ]
     },
     "metadata": {},
     "output_type": "display_data"
    }
   ],
   "source": [
    "import seaborn as sns\n",
    "# Plot the distribution of the text length for each class using a box plot\n",
    "sns.boxplot(x=train_df['lang_id'], y=train_df['length'], data=train_df, palette=(\"Blues_d\"))\n",
    "plt.title('Text length for each lang_id')\n",
    "plt.show()"
   ]
  },
  {
   "cell_type": "markdown",
   "id": "ac96f4f0",
   "metadata": {},
   "source": [
    "# Step 3: Data Preprocessing"
   ]
  },
  {
   "cell_type": "markdown",
   "id": "2980edd3",
   "metadata": {},
   "source": [
    "### Create copy\n",
    "- The first step in the preprocessing is to create a copy of the train dataframe for the EDA. The original dataframe will therefore be preserved. We proceed to rename the classes, converting the labels from numbers to the words they represent. This will make creating visuals with appropriate labels easier."
   ]
  },
  {
   "cell_type": "code",
   "execution_count": 12,
   "id": "d5d94d36",
   "metadata": {},
   "outputs": [],
   "source": [
    "# Create a copy of the train_df DataFrame\n",
    "train = train_df.copy()\n",
    "# Create a copy of the test_df DataFrame\n",
    "test = test_df.copy()"
   ]
  },
  {
   "cell_type": "code",
   "execution_count": 13,
   "id": "b8cbac79",
   "metadata": {},
   "outputs": [],
   "source": [
    "# Assuming 'train' and 'test' are your Pandas DataFrames with a 'text' column\n",
    "train['text'] = train['text'].str.lower()\n",
    "test['text'] = test['text'].str.lower()"
   ]
  },
  {
   "cell_type": "code",
   "execution_count": 14,
   "id": "5ec4bddf",
   "metadata": {},
   "outputs": [
    {
     "data": {
      "text/html": [
       "<div>\n",
       "<style scoped>\n",
       "    .dataframe tbody tr th:only-of-type {\n",
       "        vertical-align: middle;\n",
       "    }\n",
       "\n",
       "    .dataframe tbody tr th {\n",
       "        vertical-align: top;\n",
       "    }\n",
       "\n",
       "    .dataframe thead th {\n",
       "        text-align: right;\n",
       "    }\n",
       "</style>\n",
       "<table border=\"1\" class=\"dataframe\">\n",
       "  <thead>\n",
       "    <tr style=\"text-align: right;\">\n",
       "      <th></th>\n",
       "      <th>lang_id</th>\n",
       "      <th>text</th>\n",
       "      <th>length</th>\n",
       "    </tr>\n",
       "  </thead>\n",
       "  <tbody>\n",
       "    <tr>\n",
       "      <th>0</th>\n",
       "      <td>xho</td>\n",
       "      <td>umgaqo-siseko wenza amalungiselelo kumaziko ax...</td>\n",
       "      <td>220</td>\n",
       "    </tr>\n",
       "    <tr>\n",
       "      <th>1</th>\n",
       "      <td>xho</td>\n",
       "      <td>i-dha iya kuba nobulumko bokubeka umsebenzi na...</td>\n",
       "      <td>252</td>\n",
       "    </tr>\n",
       "    <tr>\n",
       "      <th>2</th>\n",
       "      <td>eng</td>\n",
       "      <td>the province of kwazulu-natal department of tr...</td>\n",
       "      <td>264</td>\n",
       "    </tr>\n",
       "    <tr>\n",
       "      <th>3</th>\n",
       "      <td>nso</td>\n",
       "      <td>o netefatša gore o ba file dilo ka moka tše le...</td>\n",
       "      <td>217</td>\n",
       "    </tr>\n",
       "    <tr>\n",
       "      <th>4</th>\n",
       "      <td>ven</td>\n",
       "      <td>khomishini ya ndinganyiso ya mbeu yo ewa maana...</td>\n",
       "      <td>239</td>\n",
       "    </tr>\n",
       "  </tbody>\n",
       "</table>\n",
       "</div>"
      ],
      "text/plain": [
       "  lang_id                                               text  length\n",
       "0     xho  umgaqo-siseko wenza amalungiselelo kumaziko ax...     220\n",
       "1     xho  i-dha iya kuba nobulumko bokubeka umsebenzi na...     252\n",
       "2     eng  the province of kwazulu-natal department of tr...     264\n",
       "3     nso  o netefatša gore o ba file dilo ka moka tše le...     217\n",
       "4     ven  khomishini ya ndinganyiso ya mbeu yo ewa maana...     239"
      ]
     },
     "execution_count": 14,
     "metadata": {},
     "output_type": "execute_result"
    }
   ],
   "source": [
    "train.head()"
   ]
  },
  {
   "cell_type": "markdown",
   "id": "bad8251d",
   "metadata": {},
   "source": [
    "- This Python function, preprocess_data, takes in two dataframes (train and test) containing text data. Its purpose is to preprocess this text data using <b>TF-IDF vectorization</b>.\n",
    "- This function encapsulates the <b>TF-IDF vectorization</b> process, allowing easy preprocessing of text data by returning the transformed features for both the training and test datasets along with the trained vectorizer."
   ]
  },
  {
   "cell_type": "code",
   "execution_count": 15,
   "id": "924c5e87",
   "metadata": {},
   "outputs": [],
   "source": [
    "from sklearn.feature_extraction.text import TfidfVectorizer\n",
    "def preprocess_data(train, test):\n",
    "    # Initializing the TF-IDF vectorizer\n",
    "    vectorizer = TfidfVectorizer()\n",
    "\n",
    "    # Fitting the vectorizer on the training data\n",
    "    vectorizer.fit(train['text'])\n",
    "\n",
    "    # Transforming the training and test data using the fitted vectorizer\n",
    "    train_variables = vectorizer.transform(train['text'])\n",
    "    test_variables = vectorizer.transform(test['text'])\n",
    "\n",
    "    return train_variables, test_variables, vectorizer"
   ]
  },
  {
   "cell_type": "markdown",
   "id": "6fff669b",
   "metadata": {},
   "source": [
    "- The the returned values of the preprocess_data function to these variables to store the TF-IDF features of the training and the test data, as well as the fitted vectorizer, which will allow them to be used in the follwing steps for model training and prediction."
   ]
  },
  {
   "cell_type": "code",
   "execution_count": 16,
   "id": "c45c78be",
   "metadata": {},
   "outputs": [],
   "source": [
    "train_variables, test_variables, vectorizer = preprocess_data(train, test)"
   ]
  },
  {
   "cell_type": "markdown",
   "id": "6dcee052",
   "metadata": {},
   "source": [
    "<a id=\"five\"></a>\n",
    "# Step 4: Split the Dataset into Training and Testing Sets\n",
    "<a class=\"anchor\" id=\"1.1\"></a>\n",
    "<a href=#cont>"
   ]
  },
  {
   "cell_type": "markdown",
   "id": "9bd5dcca",
   "metadata": {},
   "source": [
    "- x contains the features (TF-IDF features) derived from the training text data.\n",
    "- y contains the target variable ('lang_id') from the training dataset.\n",
    "- testX contains the features derived from the test text data.\n",
    "- The <b>train_test_split</b> function then splits the training data (x and y) into <b>80% training</b> (x_train and y_train) and <b>20% testing</b> (x_test and y_test) sets for model training and evaluation, respectively. The random_state parameter ensures reproducibility of the split."
   ]
  },
  {
   "cell_type": "code",
   "execution_count": 17,
   "id": "5ad48efd",
   "metadata": {},
   "outputs": [],
   "source": [
    "# 'X' contains your features and 'y' contains your target variable\n",
    "# Adjust column names accordingly based on your dataset structure\n",
    "x = train_variables\n",
    "y = train['lang_id']\n",
    "testX = test_variables\n",
    "\n",
    "# Split the dataset into 80% training and 20% testing\n",
    "x_train, x_test, y_train, y_test = train_test_splitX_train, X_val, y_train, y_val = train_test_split(x, y, test_size=0.2, random_state=42)"
   ]
  },
  {
   "cell_type": "markdown",
   "id": "156a5ddf",
   "metadata": {},
   "source": [
    "# Step 5: Training and Evaluation"
   ]
  },
  {
   "cell_type": "markdown",
   "id": "c8a9257b",
   "metadata": {},
   "source": [
    "The following codes provided below demonstrates the process of training different typres of models using the training data and then evaluating its performance on the test data. Additionally, it measures the training and prediction times.\n",
    "\n",
    "The following 5 models will be considered:\n",
    "- Logistic Regression\n",
    "- K-Nearest Neighbors (KNN)\n",
    "- Support Vector Machine (SVM)\n",
    "- DecisionTreeClassifier()\n",
    "- Multinomial Naive Bayes\n"
   ]
  },
  {
   "cell_type": "markdown",
   "id": "a1d72d3c",
   "metadata": {},
   "source": [
    "- There are code showing <b>classification report</b> for all the models which gives the summary report that presents key classification metrics, including <b>precision, recall, F1-score, and support</b> for the model's performances. \n",
    "- These classification reports provide a detailed breakdown of model performance across different classes for each classifier (Logistic Regression, K-Nearest Neighbors (KNN), Support Vector Machine (SVM), and Naive Bayes) in a multi-class classification scenario.\n",
    "- It's a crucial tool for evaluating and understanding how well a classifier performs on individual classes within a multi-class classification problem."
   ]
  },
  {
   "cell_type": "code",
   "execution_count": 18,
   "id": "40483246",
   "metadata": {},
   "outputs": [
    {
     "name": "stdout",
     "output_type": "stream",
     "text": [
      "Logistic Regression F1 Score: 0.994245605433102\n",
      "Training Time: 35.49792122840881 seconds\n",
      "Prediction Time: 0.0 seconds\n"
     ]
    },
    {
     "name": "stderr",
     "output_type": "stream",
     "text": [
      "C:\\ProgramData\\anaconda3\\Lib\\site-packages\\sklearn\\linear_model\\_logistic.py:460: ConvergenceWarning: lbfgs failed to converge (status=1):\n",
      "STOP: TOTAL NO. of ITERATIONS REACHED LIMIT.\n",
      "\n",
      "Increase the number of iterations (max_iter) or scale the data as shown in:\n",
      "    https://scikit-learn.org/stable/modules/preprocessing.html\n",
      "Please also refer to the documentation for alternative solver options:\n",
      "    https://scikit-learn.org/stable/modules/linear_model.html#logistic-regression\n",
      "  n_iter_i = _check_optimize_result(\n"
     ]
    }
   ],
   "source": [
    "# Initialize the Logistic Regression model\n",
    "lr = LogisticRegression()\n",
    "\n",
    "# Start measuring the training time\n",
    "train_start_time = time.time()\n",
    "lr.fit(x_train, y_train)\n",
    "train_end_time = time.time()\n",
    "train_time = train_end_time - train_start_time  # Calculate training time\n",
    "\n",
    "# Start measuring the prediction time\n",
    "pred_start_time = time.time()\n",
    "lr_preds = lr.predict(x_test)\n",
    "pred_end_time = time.time()\n",
    "pred_time = pred_end_time - pred_start_time  # Calculate prediction time\n",
    "\n",
    "# Calculate F1 score\n",
    "lr_f1 = f1_score(y_test, lr_preds, average='weighted')\n",
    "\n",
    "print(\"Logistic Regression F1 Score:\", lr_f1)\n",
    "print(\"Training Time:\", train_time, \"seconds\")\n",
    "print(\"Prediction Time:\", pred_time, \"seconds\")"
   ]
  },
  {
   "cell_type": "code",
   "execution_count": 19,
   "id": "464a66d8",
   "metadata": {},
   "outputs": [
    {
     "name": "stdout",
     "output_type": "stream",
     "text": [
      "0.9942424242424243\n",
      " Logistic regression Classification Report:\n",
      "              precision    recall  f1-score   support\n",
      "\n",
      "         afr       1.00      0.99      0.99       583\n",
      "         eng       1.00      1.00      1.00       615\n",
      "         nbl       0.98      0.99      0.99       583\n",
      "         nso       1.00      0.99      1.00       625\n",
      "         sot       1.00      1.00      1.00       618\n",
      "         ssw       0.98      1.00      0.99       584\n",
      "         tsn       1.00      1.00      1.00       598\n",
      "         tso       1.00      1.00      1.00       561\n",
      "         ven       1.00      1.00      1.00       634\n",
      "         xho       0.99      1.00      0.99       609\n",
      "         zul       0.98      0.98      0.98       590\n",
      "\n",
      "    accuracy                           0.99      6600\n",
      "   macro avg       0.99      0.99      0.99      6600\n",
      "weighted avg       0.99      0.99      0.99      6600\n",
      "\n"
     ]
    }
   ],
   "source": [
    "# Generate the confusion matrix\n",
    "conf_matrix = confusion_matrix(y_test, lr_preds)\n",
    "\n",
    "# Calculate accuracy\n",
    "accuracy = accuracy_score(y_test, lr_preds)\n",
    "\n",
    "# Print a full classification report\n",
    "print(accuracy)\n",
    "print(\" Logistic regression Classification Report:\")\n",
    "print(classification_report(y_test, lr_preds))"
   ]
  },
  {
   "cell_type": "code",
   "execution_count": 20,
   "id": "361fe94c",
   "metadata": {},
   "outputs": [
    {
     "name": "stdout",
     "output_type": "stream",
     "text": [
      "KNN F1 Score: 0.9593450685034197\n",
      "Training Time: 0.015657901763916016 seconds\n",
      "Prediction Time: 79.17087435722351 seconds\n"
     ]
    }
   ],
   "source": [
    "# Start measuring time for training\n",
    "start_time = time.time()\n",
    "\n",
    "knn = KNeighborsClassifier()\n",
    "knn.fit(x_train, y_train)\n",
    "\n",
    "# Calculate the training time\n",
    "training_time = time.time() - start_time\n",
    "\n",
    "# Start measuring time for prediction\n",
    "start_time = time.time()\n",
    "\n",
    "knn_preds = knn.predict(x_test)\n",
    "\n",
    "# Calculate the prediction time\n",
    "prediction_time = time.time() - start_time\n",
    "\n",
    "knn_f1 = f1_score(y_test, knn_preds, average='weighted')\n",
    "\n",
    "print(\"KNN F1 Score:\", knn_f1)\n",
    "print(\"Training Time:\", training_time, \"seconds\")\n",
    "print(\"Prediction Time:\", prediction_time, \"seconds\")"
   ]
  },
  {
   "cell_type": "code",
   "execution_count": 21,
   "id": "48685d46",
   "metadata": {},
   "outputs": [
    {
     "name": "stdout",
     "output_type": "stream",
     "text": [
      "0.9595454545454546\n",
      "KNN Classification Report:\n",
      "              precision    recall  f1-score   support\n",
      "\n",
      "         afr       0.99      0.99      0.99       583\n",
      "         eng       0.97      1.00      0.98       615\n",
      "         nbl       0.87      0.96      0.91       583\n",
      "         nso       0.93      0.98      0.96       625\n",
      "         sot       0.98      0.97      0.97       618\n",
      "         ssw       0.96      0.96      0.96       584\n",
      "         tsn       0.96      0.93      0.95       598\n",
      "         tso       0.98      1.00      0.99       561\n",
      "         ven       0.99      1.00      0.99       634\n",
      "         xho       0.97      0.91      0.94       609\n",
      "         zul       0.97      0.85      0.91       590\n",
      "\n",
      "    accuracy                           0.96      6600\n",
      "   macro avg       0.96      0.96      0.96      6600\n",
      "weighted avg       0.96      0.96      0.96      6600\n",
      "\n"
     ]
    }
   ],
   "source": [
    "# Generate the confusion matrix\n",
    "conf_matrix = confusion_matrix(y_test, knn_preds)\n",
    "\n",
    "# Calculate accuracy\n",
    "accuracy = accuracy_score(y_test, knn_preds)\n",
    "\n",
    "# Print a full classification report\n",
    "print(accuracy)\n",
    "print(\"KNN Classification Report:\")\n",
    "print(classification_report(y_test, knn_preds))"
   ]
  },
  {
   "cell_type": "code",
   "execution_count": 22,
   "id": "64598e93",
   "metadata": {},
   "outputs": [
    {
     "name": "stdout",
     "output_type": "stream",
     "text": [
      "SVM F1 Score: 0.9942650475719715\n",
      "Training Time: 158.89105606079102 seconds\n",
      "Prediction Time: 27.64072823524475 seconds\n"
     ]
    }
   ],
   "source": [
    "# Start measuring time for training\n",
    "start_time = time.time()\n",
    "\n",
    "svm = SVC()\n",
    "svm.fit(x_train, y_train)\n",
    "\n",
    "# Calculate the training time\n",
    "training_time = time.time() - start_time\n",
    "\n",
    "# Start measuring time for prediction\n",
    "start_time = time.time()\n",
    "\n",
    "svm_predictions = svm.predict(x_test)\n",
    "\n",
    "# Calculate the prediction time\n",
    "prediction_time = time.time() - start_time\n",
    "\n",
    "svm_f1 = f1_score(y_test, svm_predictions, average='weighted')\n",
    "\n",
    "print(\"SVM F1 Score:\", svm_f1)\n",
    "print(\"Training Time:\", training_time, \"seconds\")\n",
    "print(\"Prediction Time:\", prediction_time, \"seconds\")"
   ]
  },
  {
   "cell_type": "code",
   "execution_count": 23,
   "id": "b88e4ae4",
   "metadata": {},
   "outputs": [
    {
     "name": "stdout",
     "output_type": "stream",
     "text": [
      "0.9942424242424243\n",
      " SVM Classification Report:\n",
      "              precision    recall  f1-score   support\n",
      "\n",
      "         afr       1.00      0.99      0.99       583\n",
      "         eng       1.00      0.99      1.00       615\n",
      "         nbl       0.99      0.98      0.99       583\n",
      "         nso       1.00      0.99      1.00       625\n",
      "         sot       1.00      1.00      1.00       618\n",
      "         ssw       1.00      1.00      1.00       584\n",
      "         tsn       1.00      1.00      1.00       598\n",
      "         tso       1.00      1.00      1.00       561\n",
      "         ven       1.00      1.00      1.00       634\n",
      "         xho       0.99      1.00      0.99       609\n",
      "         zul       0.96      0.99      0.98       590\n",
      "\n",
      "    accuracy                           0.99      6600\n",
      "   macro avg       0.99      0.99      0.99      6600\n",
      "weighted avg       0.99      0.99      0.99      6600\n",
      "\n"
     ]
    }
   ],
   "source": [
    "# Generate the confusion matrix\n",
    "conf_matrix = confusion_matrix(y_test, svm_predictions)\n",
    "\n",
    "# Calculate accuracy\n",
    "accuracy = accuracy_score(y_test, svm_predictions)\n",
    "\n",
    "# Print a full classification report\n",
    "print(accuracy)\n",
    "print(\" SVM Classification Report:\")\n",
    "print(classification_report(y_test, svm_predictions))"
   ]
  },
  {
   "cell_type": "code",
   "execution_count": 24,
   "id": "8820ecbd",
   "metadata": {},
   "outputs": [
    {
     "name": "stdout",
     "output_type": "stream",
     "text": [
      "Decision Tree F1 Score: 0.9466347442988664\n",
      "Training Time: 19.81966209411621 seconds\n",
      "Prediction Time: 0.04128575325012207 seconds\n"
     ]
    }
   ],
   "source": [
    "from sklearn.tree import DecisionTreeClassifier\n",
    "from sklearn.metrics import f1_score\n",
    "import time\n",
    "\n",
    "# Start measuring time for training\n",
    "start_time = time.time()\n",
    "\n",
    "dt = DecisionTreeClassifier()\n",
    "dt.fit(x_train, y_train)\n",
    "\n",
    "# Calculate the training time\n",
    "training_time = time.time() - start_time\n",
    "\n",
    "# Start measuring time for prediction\n",
    "start_time = time.time()\n",
    "\n",
    "dt_predictions = dt.predict(x_test)\n",
    "\n",
    "# Calculate the prediction time\n",
    "prediction_time = time.time() - start_time\n",
    "\n",
    "dt_f1 = f1_score(y_test, dt_predictions, average='weighted')\n",
    "\n",
    "print(\"Decision Tree F1 Score:\", dt_f1)\n",
    "print(\"Training Time:\", training_time, \"seconds\")\n",
    "print(\"Prediction Time:\", prediction_time, \"seconds\")\n"
   ]
  },
  {
   "cell_type": "code",
   "execution_count": 26,
   "id": "da64db65",
   "metadata": {},
   "outputs": [
    {
     "name": "stdout",
     "output_type": "stream",
     "text": [
      "0.9465151515151515\n",
      " Naive bayes Classification Report:\n",
      "              precision    recall  f1-score   support\n",
      "\n",
      "         afr       0.99      0.99      0.99       583\n",
      "         eng       0.99      1.00      0.99       615\n",
      "         nbl       0.89      0.89      0.89       583\n",
      "         nso       0.99      0.96      0.98       625\n",
      "         sot       0.97      0.99      0.98       618\n",
      "         ssw       0.86      0.89      0.87       584\n",
      "         tsn       0.95      0.98      0.97       598\n",
      "         tso       0.98      0.99      0.99       561\n",
      "         ven       1.00      0.99      0.99       634\n",
      "         xho       0.94      0.87      0.91       609\n",
      "         zul       0.84      0.87      0.85       590\n",
      "\n",
      "    accuracy                           0.95      6600\n",
      "   macro avg       0.95      0.95      0.95      6600\n",
      "weighted avg       0.95      0.95      0.95      6600\n",
      "\n"
     ]
    }
   ],
   "source": [
    "# Generate the confusion matrix\n",
    "conf_matrix = confusion_matrix(y_test, dt_predictions)\n",
    "\n",
    "# Calculate accuracy\n",
    "accuracy = accuracy_score(y_test, dt_predictions)\n",
    "\n",
    "# Print a full classification report\n",
    "print(accuracy)\n",
    "print(\" Naive bayes Classification Report:\")\n",
    "print(classification_report(y_test, dt_predictions))"
   ]
  },
  {
   "cell_type": "code",
   "execution_count": 29,
   "id": "9911de99",
   "metadata": {},
   "outputs": [
    {
     "name": "stdout",
     "output_type": "stream",
     "text": [
      "Naive Bayes F1 Score: 0.9980299054262277\n",
      "Training Time: 0.22252774238586426 seconds\n",
      "Prediction Time: 0.01781320571899414 seconds\n"
     ]
    }
   ],
   "source": [
    "# Start measuring time for training\n",
    "start_time = time.time()\n",
    "\n",
    "nb = MultinomialNB()\n",
    "nb.fit(x_train, y_train)\n",
    "\n",
    "# Calculate the training time\n",
    "training_time = time.time() - start_time\n",
    "\n",
    "# Start measuring time for prediction\n",
    "start_time = time.time()\n",
    "\n",
    "nb_predictions = nb.predict(x_test)\n",
    "\n",
    "# Calculate the prediction time\n",
    "prediction_time = time.time() - start_time\n",
    "\n",
    "nb_f1 = f1_score(y_test, nb_predictions, average='weighted')\n",
    "\n",
    "print(\"Naive Bayes F1 Score:\", nb_f1)\n",
    "print(\"Training Time:\", training_time, \"seconds\")\n",
    "print(\"Prediction Time:\", prediction_time, \"seconds\")\n"
   ]
  },
  {
   "cell_type": "code",
   "execution_count": 30,
   "id": "51bc6c15",
   "metadata": {},
   "outputs": [
    {
     "name": "stdout",
     "output_type": "stream",
     "text": [
      "0.998030303030303\n",
      " Naive bayes Classification Report:\n",
      "              precision    recall  f1-score   support\n",
      "\n",
      "         afr       1.00      1.00      1.00       583\n",
      "         eng       1.00      1.00      1.00       615\n",
      "         nbl       0.99      1.00      0.99       583\n",
      "         nso       1.00      1.00      1.00       625\n",
      "         sot       1.00      1.00      1.00       618\n",
      "         ssw       1.00      1.00      1.00       584\n",
      "         tsn       1.00      1.00      1.00       598\n",
      "         tso       1.00      1.00      1.00       561\n",
      "         ven       1.00      1.00      1.00       634\n",
      "         xho       1.00      1.00      1.00       609\n",
      "         zul       1.00      0.99      0.99       590\n",
      "\n",
      "    accuracy                           1.00      6600\n",
      "   macro avg       1.00      1.00      1.00      6600\n",
      "weighted avg       1.00      1.00      1.00      6600\n",
      "\n"
     ]
    }
   ],
   "source": [
    "# Generate the confusion matrix\n",
    "conf_matrix = confusion_matrix(y_test, nb_predictions)\n",
    "\n",
    "# Calculate accuracy\n",
    "accuracy = accuracy_score(y_test, nb_predictions)\n",
    "\n",
    "# Print a full classification report\n",
    "print(accuracy)\n",
    "print(\" Naive bayes Classification Report:\")\n",
    "print(classification_report(y_test, nb_predictions))"
   ]
  },
  {
   "cell_type": "markdown",
   "id": "ffd899a8",
   "metadata": {},
   "source": [
    "These observations from the suggest various performance differences among the models:\n",
    "\n",
    "- <b>Naive Bayes</b> demonstrates high accuracy (F1 Score: 0.9980) with minimal training and prediction times.\n",
    "- <b>Logistic Regression and SVM </b> both display high F1 scores (around 0.994) but differ significantly in training and prediction times. SVM takes considerably longer for both.\n",
    "- <b>KNN</b> achieves a slightly lower (F1 score: 0.9593) and notably longer prediction time compared to the other models.\n",
    "\n",
    "\n",
    "\n",
    "- These Classification reports indicate that Logistic Regression, SVM, and Naive Bayes perform remarkably well across multiple classes, demonstrating high precision, recall, and F1-scores, resulting in excellent accuracy for the multi-class classification task. KNN shows good performance but slightly lower compared to the other models for certain classes."
   ]
  },
  {
   "cell_type": "markdown",
   "id": "3b2f9db7",
   "metadata": {},
   "source": [
    "## Hyperparameter tuning\n",
    "\n",
    "- The code below demonstrates the use of GridSearchCV from scikit-learn performing hyperparameter tuning for a pipeline consisting of a TF-IDF vectorizer and a Multinomial Naive Bayes classifier. This process searches for the best combination of max_features for TF-IDF and different values of alpha for the Multinomial Naive Bayes classifier."
   ]
  },
  {
   "cell_type": "code",
   "execution_count": 31,
   "id": "7c924a17",
   "metadata": {},
   "outputs": [
    {
     "name": "stdout",
     "output_type": "stream",
     "text": [
      "Best Parameters: {'nb__alpha': 0.1, 'nb__fit_prior': True, 'tfidf__max_features': None, 'tfidf__ngram_range': (1, 1)}\n"
     ]
    }
   ],
   "source": [
    "from sklearn.model_selection import GridSearchCV\n",
    "from sklearn.naive_bayes import MultinomialNB\n",
    "from sklearn.feature_extraction.text import TfidfVectorizer\n",
    "from sklearn.pipeline import Pipeline\n",
    "\n",
    "# Preprocess the text data (assuming 'train_text' contains your text data)\n",
    "train_text_lower = train['text'].apply(lambda x: x.lower())\n",
    "\n",
    "# Create a pipeline with TF-IDF vectorizer and MultinomialNB\n",
    "pipeline = Pipeline([\n",
    "    ('tfidf', TfidfVectorizer()),\n",
    "    ('nb', MultinomialNB()),\n",
    "])\n",
    "\n",
    "# Define hyperparameters to tune\n",
    "parameters = {\n",
    "    'tfidf__max_features': (None, 1000, 5000),  # Example TF-IDF max_features\n",
    "    'tfidf__ngram_range': [(1, 1), (1, 2)],    # Example ngram range for TF-IDF\n",
    "    'nb__alpha': (0.1, 0.5, 1.0),              # Example alpha values for NB\n",
    "    'nb__fit_prior': [True, False]             # Example fit_prior values for NB\n",
    "}\n",
    "\n",
    "# Perform grid search using 5-fold cross-validation\n",
    "grid_search = GridSearchCV(pipeline, parameters, cv=5, n_jobs=-1)\n",
    "grid_search.fit(train_text_lower, train['lang_id'])\n",
    "\n",
    "# Best parameters found\n",
    "print(\"Best Parameters:\", grid_search.best_params_)"
   ]
  },
  {
   "cell_type": "markdown",
   "id": "cd463bb9",
   "metadata": {},
   "source": [
    "- The purpose of the following code is to build a text classification model that can predict the lang_id of a given text, this was achieved by preprocessing the text data and converting it to numerical features using TF-ID, and trains a Naive Bayes classifier to learn patterns between the text features and their associated lang_id."
   ]
  },
  {
   "cell_type": "code",
   "execution_count": 33,
   "id": "090bbbe1",
   "metadata": {},
   "outputs": [
    {
     "data": {
      "text/html": [
       "<style>#sk-container-id-2 {color: black;}#sk-container-id-2 pre{padding: 0;}#sk-container-id-2 div.sk-toggleable {background-color: white;}#sk-container-id-2 label.sk-toggleable__label {cursor: pointer;display: block;width: 100%;margin-bottom: 0;padding: 0.3em;box-sizing: border-box;text-align: center;}#sk-container-id-2 label.sk-toggleable__label-arrow:before {content: \"▸\";float: left;margin-right: 0.25em;color: #696969;}#sk-container-id-2 label.sk-toggleable__label-arrow:hover:before {color: black;}#sk-container-id-2 div.sk-estimator:hover label.sk-toggleable__label-arrow:before {color: black;}#sk-container-id-2 div.sk-toggleable__content {max-height: 0;max-width: 0;overflow: hidden;text-align: left;background-color: #f0f8ff;}#sk-container-id-2 div.sk-toggleable__content pre {margin: 0.2em;color: black;border-radius: 0.25em;background-color: #f0f8ff;}#sk-container-id-2 input.sk-toggleable__control:checked~div.sk-toggleable__content {max-height: 200px;max-width: 100%;overflow: auto;}#sk-container-id-2 input.sk-toggleable__control:checked~label.sk-toggleable__label-arrow:before {content: \"▾\";}#sk-container-id-2 div.sk-estimator input.sk-toggleable__control:checked~label.sk-toggleable__label {background-color: #d4ebff;}#sk-container-id-2 div.sk-label input.sk-toggleable__control:checked~label.sk-toggleable__label {background-color: #d4ebff;}#sk-container-id-2 input.sk-hidden--visually {border: 0;clip: rect(1px 1px 1px 1px);clip: rect(1px, 1px, 1px, 1px);height: 1px;margin: -1px;overflow: hidden;padding: 0;position: absolute;width: 1px;}#sk-container-id-2 div.sk-estimator {font-family: monospace;background-color: #f0f8ff;border: 1px dotted black;border-radius: 0.25em;box-sizing: border-box;margin-bottom: 0.5em;}#sk-container-id-2 div.sk-estimator:hover {background-color: #d4ebff;}#sk-container-id-2 div.sk-parallel-item::after {content: \"\";width: 100%;border-bottom: 1px solid gray;flex-grow: 1;}#sk-container-id-2 div.sk-label:hover label.sk-toggleable__label {background-color: #d4ebff;}#sk-container-id-2 div.sk-serial::before {content: \"\";position: absolute;border-left: 1px solid gray;box-sizing: border-box;top: 0;bottom: 0;left: 50%;z-index: 0;}#sk-container-id-2 div.sk-serial {display: flex;flex-direction: column;align-items: center;background-color: white;padding-right: 0.2em;padding-left: 0.2em;position: relative;}#sk-container-id-2 div.sk-item {position: relative;z-index: 1;}#sk-container-id-2 div.sk-parallel {display: flex;align-items: stretch;justify-content: center;background-color: white;position: relative;}#sk-container-id-2 div.sk-item::before, #sk-container-id-2 div.sk-parallel-item::before {content: \"\";position: absolute;border-left: 1px solid gray;box-sizing: border-box;top: 0;bottom: 0;left: 50%;z-index: -1;}#sk-container-id-2 div.sk-parallel-item {display: flex;flex-direction: column;z-index: 1;position: relative;background-color: white;}#sk-container-id-2 div.sk-parallel-item:first-child::after {align-self: flex-end;width: 50%;}#sk-container-id-2 div.sk-parallel-item:last-child::after {align-self: flex-start;width: 50%;}#sk-container-id-2 div.sk-parallel-item:only-child::after {width: 0;}#sk-container-id-2 div.sk-dashed-wrapped {border: 1px dashed gray;margin: 0 0.4em 0.5em 0.4em;box-sizing: border-box;padding-bottom: 0.4em;background-color: white;}#sk-container-id-2 div.sk-label label {font-family: monospace;font-weight: bold;display: inline-block;line-height: 1.2em;}#sk-container-id-2 div.sk-label-container {text-align: center;}#sk-container-id-2 div.sk-container {/* jupyter's `normalize.less` sets `[hidden] { display: none; }` but bootstrap.min.css set `[hidden] { display: none !important; }` so we also need the `!important` here to be able to override the default hidden behavior on the sphinx rendered scikit-learn.org. See: https://github.com/scikit-learn/scikit-learn/issues/21755 */display: inline-block !important;position: relative;}#sk-container-id-2 div.sk-text-repr-fallback {display: none;}</style><div id=\"sk-container-id-2\" class=\"sk-top-container\"><div class=\"sk-text-repr-fallback\"><pre>MultinomialNB(alpha=0.1)</pre><b>In a Jupyter environment, please rerun this cell to show the HTML representation or trust the notebook. <br />On GitHub, the HTML representation is unable to render, please try loading this page with nbviewer.org.</b></div><div class=\"sk-container\" hidden><div class=\"sk-item\"><div class=\"sk-estimator sk-toggleable\"><input class=\"sk-toggleable__control sk-hidden--visually\" id=\"sk-estimator-id-2\" type=\"checkbox\" checked><label for=\"sk-estimator-id-2\" class=\"sk-toggleable__label sk-toggleable__label-arrow\">MultinomialNB</label><div class=\"sk-toggleable__content\"><pre>MultinomialNB(alpha=0.1)</pre></div></div></div></div></div>"
      ],
      "text/plain": [
       "MultinomialNB(alpha=0.1)"
      ]
     },
     "execution_count": 33,
     "metadata": {},
     "output_type": "execute_result"
    }
   ],
   "source": [
    "from sklearn.naive_bayes import MultinomialNB\n",
    "from sklearn.feature_extraction.text import TfidfVectorizer\n",
    "from sklearn.metrics import accuracy_score\n",
    "\n",
    "# Use the best parameters found by GridSearchCV\n",
    "best_nb_alpha = 0.1\n",
    "best_nb_fit_prior = True\n",
    "best_tfidf_max_features = None\n",
    "best_tfidf_ngram_range = (1, 1)\n",
    "\n",
    "# Create TF-IDF vectorizer and Multinomial Naive Bayes classifier with best parameters\n",
    "tfidf = TfidfVectorizer(max_features=best_tfidf_max_features)\n",
    "nb = MultinomialNB(alpha=best_nb_alpha)\n",
    "\n",
    "# Fit TF-IDF vectorizer on the entire training data\n",
    "train_text_lower = train['text'].apply(lambda x: x.lower()) \n",
    "tfidf.fit(train_text_lower)\n",
    "\n",
    "# Transform the entire training data and fit the Naive Bayes classifier\n",
    "train_features = tfidf.transform(train_text_lower)\n",
    "nb.fit(train_features, train['lang_id'])"
   ]
  },
  {
   "cell_type": "markdown",
   "id": "d5e89c36",
   "metadata": {},
   "source": [
    "# Step 6: Generating lang_id predictions for the test set"
   ]
  },
  {
   "cell_type": "markdown",
   "id": "d514f2c7",
   "metadata": {},
   "source": [
    "- This code  preprocesses the test data by converting it into <b>TF-IDF vectors</b> using a previously trained vectorizer and then generates predictions on this transformed test data using a <b>Naive Bayes classifier model(nb)</b>."
   ]
  },
  {
   "cell_type": "code",
   "execution_count": 34,
   "id": "4f04cbd3",
   "metadata": {},
   "outputs": [],
   "source": [
    "# Transform the test data using the trained TF-IDF vectorizer\n",
    "test_text_lower = test['text'].apply(lambda x: x.lower()) \n",
    "test_features = tfidf.transform(test_text_lower)\n",
    "\n",
    "# Predict on the test data\n",
    "predictions = nb.predict(test_features)"
   ]
  },
  {
   "cell_type": "markdown",
   "id": "b5bef0cd",
   "metadata": {},
   "source": [
    "<a id=\"seven\"></a>\n",
    "# Step 7: Prepare the Submission File\n",
    "<a class=\"anchor\" id=\"1.1\"></a>\n",
    "<a href=#cont>"
   ]
  },
  {
   "cell_type": "markdown",
   "id": "01c61e45",
   "metadata": {},
   "source": [
    "- This code prepares a submission file in CSV format with <b>'index' and 'lang_id'</b> columns, which will be submitted for evaluation and scoring in the South African Language Identification Hack 2023 competition, the objective is to predict language labels <b>('lang_id')</b> for given test data <b>indices('index')</b>."
   ]
  },
  {
   "cell_type": "code",
   "execution_count": 35,
   "id": "ab86baf2",
   "metadata": {},
   "outputs": [],
   "source": [
    "# Creating a submission dataframe with 'index' and 'lang_id' columns\n",
    "submission_df = pd.DataFrame({'index': test['index'], 'lang_id': predictions})\n",
    "\n",
    "submission_df.to_csv('final_submission.csv', index=False)"
   ]
  },
  {
   "cell_type": "code",
   "execution_count": null,
   "id": "0fb6c59c",
   "metadata": {},
   "outputs": [],
   "source": []
  }
 ],
 "metadata": {
  "kernelspec": {
   "display_name": "Python 3 (ipykernel)",
   "language": "python",
   "name": "python3"
  },
  "language_info": {
   "codemirror_mode": {
    "name": "ipython",
    "version": 3
   },
   "file_extension": ".py",
   "mimetype": "text/x-python",
   "name": "python",
   "nbconvert_exporter": "python",
   "pygments_lexer": "ipython3",
   "version": "3.11.5"
  }
 },
 "nbformat": 4,
 "nbformat_minor": 5
}
